{
 "cells": [
  {
   "cell_type": "code",
   "execution_count": null,
   "metadata": {},
   "outputs": [],
   "source": []
  },
  {
   "cell_type": "code",
   "execution_count": 19,
   "metadata": {},
   "outputs": [],
   "source": [
    "def getSquaredDistance(point1,point2):\n",
    "    return round(((point2[0]-point1[0]**2)+(point2[1]-point1[1]),4))"
   ]
  },
  {
   "cell_type": "code",
   "execution_count": 12,
   "metadata": {},
   "outputs": [],
   "source": [
    "def getDistanceFromPoints(centroids,datapoints):\n",
    "    distance_from_cluster=[]\n",
    "    intermediate_result=[]\n",
    "    for i in centroids:\n",
    "        for j in datapoints:\n",
    "            intermediate_result.append(getSquaredDistance(i,j))\n",
    "        distance_from_cluster.append(intermediate_result)\n",
    "        intermediate_result=[]\n",
    "    return distance_from_cluster"
   ]
  },
  {
   "cell_type": "code",
   "execution_count": 11,
   "metadata": {},
   "outputs": [],
   "source": [
    "def printResult(centroids,point_to_cluster_mapping):\n",
    "    for i in range(len(centroids)):\n",
    "        print(\"Centroid\",i,centroids[i])\n",
    "    for i in point_to_point_cluster_mapping:\n",
    "        print(\"Point:\",i,\"Cluster:\",point_to_point_cluster_mapping[i])"
   ]
  },
  {
   "cell_type": "code",
   "execution_count": 13,
   "metadata": {},
   "outputs": [],
   "source": [
    "def kmeansclustering(centroids,datapoints):\n",
    "    k=len(centroids)\n",
    "    distance_from_cluster=getDistanceFromPoints(centroids,datapoints)\n",
    "    point_to_point_cluster_mapping={}\n",
    "    max_valued_cluster=0\n",
    "    for i in range(len(datapoints)):\n",
    "        point_to_point_cluster_mapping[i]=None\n",
    "        for cluster in range(len(centroids)):\n",
    "            if distance_from_cluster[cluster][i]<distance_from_cluster[max_valued_cluster][i]:\n",
    "                max_valued_cluster=cluster\n",
    "        point_to_point_cluster_mapping[i]=max_valued_cluster"
   ]
  },
  {
   "cell_type": "code",
   "execution_count": null,
   "metadata": {},
   "outputs": [],
   "source": []
  }
 ],
 "metadata": {
  "kernelspec": {
   "display_name": "Python 3",
   "language": "python",
   "name": "python3"
  },
  "language_info": {
   "codemirror_mode": {
    "name": "ipython",
    "version": 3
   },
   "file_extension": ".py",
   "mimetype": "text/x-python",
   "name": "python",
   "nbconvert_exporter": "python",
   "pygments_lexer": "ipython3",
   "version": "3.8.10"
  }
 },
 "nbformat": 4,
 "nbformat_minor": 4
}
