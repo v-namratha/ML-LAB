{
 "cells": [
  {
   "cell_type": "code",
   "execution_count": 8,
   "metadata": {},
   "outputs": [
    {
     "name": "stdout",
     "output_type": "stream",
     "text": [
      "Ent the num of elements- 5\n",
      "1\n",
      "2\n",
      "3\n",
      "4\n",
      "5\n",
      "[1, 2, 3, 4, 5]\n"
     ]
    }
   ],
   "source": [
    "#Inputing list\n",
    "\n",
    "lst = []\n",
    "n = int(input(\"Ent the num of elements- \"))\n",
    "for i in range(0,n):\n",
    "    ele = int(input())\n",
    "    lst.append(ele)\n",
    "print(lst) "
   ]
  },
  {
   "cell_type": "code",
   "execution_count": 19,
   "metadata": {},
   "outputs": [
    {
     "name": "stdout",
     "output_type": "stream",
     "text": [
      "Mean is : 3\n",
      "Median is : 3\n"
     ]
    }
   ],
   "source": [
    "#Mean, Median and Mode\n",
    "\n",
    "import statistics\n",
    "x = statistics.mean(lst)\n",
    "print(\"Mean is :\", x)\n",
    "print(\"Median is :\", statistics.median(lst))\n"
   ]
  },
  {
   "cell_type": "code",
   "execution_count": 10,
   "metadata": {},
   "outputs": [
    {
     "name": "stdout",
     "output_type": "stream",
     "text": [
      "Mode is : 5\n"
     ]
    }
   ],
   "source": [
    "#Mode\n",
    "\n",
    "print(\"Mode is :\", statistics.mode(lst))"
   ]
  },
  {
   "cell_type": "code",
   "execution_count": 10,
   "metadata": {},
   "outputs": [
    {
     "name": "stdout",
     "output_type": "stream",
     "text": [
      "Mean is:  3.0\n"
     ]
    }
   ],
   "source": [
    "#Mean\n",
    "\n",
    "Sum = sum(lst)\n",
    "mean = Sum / n\n",
    "  \n",
    "print(\"Mean is: \", mean)"
   ]
  },
  {
   "cell_type": "code",
   "execution_count": 11,
   "metadata": {},
   "outputs": [
    {
     "name": "stdout",
     "output_type": "stream",
     "text": [
      "Median is:  3\n"
     ]
    }
   ],
   "source": [
    "#Median\n",
    "\n",
    "lst.sort()\n",
    "  \n",
    "if n % 2 == 0:\n",
    "    median1 = lst[n//2]\n",
    "    median2 = lst[n//2 - 1]\n",
    "    median = (median1 + median2)/2\n",
    "else:\n",
    "    median = lst[n//2]\n",
    "print(\"Median is: \", median)"
   ]
  },
  {
   "cell_type": "code",
   "execution_count": 12,
   "metadata": {},
   "outputs": [
    {
     "name": "stdout",
     "output_type": "stream",
     "text": [
      "Mode is : [1, 2, 3, 4, 5]\n"
     ]
    }
   ],
   "source": [
    "#Mode\n",
    "\n",
    "def mode(lst):\n",
    "    frequency= { }\n",
    "    for n in lst:\n",
    "        frequency.setdefault(n,0)\n",
    "        frequency[n]+=1\n",
    "    highfreq=max(frequency.values())\n",
    "    highfreqlst=[]\n",
    "    \n",
    "    for n,freq in frequency.items():\n",
    "        if freq==highfreq:\n",
    "            highfreqlst.append(n)\n",
    "    return highfreqlst\n",
    "\n",
    "print(\"Mode is :\",mode(lst))\n",
    "        \n"
   ]
  },
  {
   "cell_type": "code",
   "execution_count": 13,
   "metadata": {},
   "outputs": [
    {
     "name": "stdout",
     "output_type": "stream",
     "text": [
      "Variance is : 2.0\n",
      "Standard deviation is : 1.4142135623730951\n"
     ]
    }
   ],
   "source": [
    "#Variance\n",
    "#Standard deviation\n",
    "\n",
    "var = sum((x - mean)**2 for x in lst) / n\n",
    "std_dev = var ** 0.5\n",
    "print(\"Variance is :\",var)  \n",
    "print(\"Standard deviation is :\",std_dev)"
   ]
  },
  {
   "cell_type": "code",
   "execution_count": 16,
   "metadata": {},
   "outputs": [
    {
     "name": "stdout",
     "output_type": "stream",
     "text": [
      "Minimum value is : 1\n",
      "Maximum value is : 5\n",
      "0.0\n",
      "0.25\n",
      "0.5\n",
      "0.75\n",
      "1.0\n"
     ]
    }
   ],
   "source": [
    "#Normalization\n",
    "\n",
    "mini=min(lst)\n",
    "maxm=max(lst)\n",
    "print(\"Minimum value is :\",mini)\n",
    "print(\"Maximum value is :\",maxm)\n",
    "for i in lst:\n",
    "    normalizaton=(i-mini)/(maxm-mini)\n",
    "    print(normalization)"
   ]
  },
  {
   "cell_type": "code",
   "execution_count": 17,
   "metadata": {},
   "outputs": [
    {
     "name": "stdout",
     "output_type": "stream",
     "text": [
      "-1.414213562373095\n",
      "-0.7071067811865475\n",
      "0.0\n",
      "0.7071067811865475\n",
      "1.414213562373095\n"
     ]
    }
   ],
   "source": [
    "#Standardization\n",
    "\n",
    "for j in lst:\n",
    "    standardization=(j-mean)/std_dev\n",
    "    print(standardization)"
   ]
  },
  {
   "cell_type": "code",
   "execution_count": null,
   "metadata": {},
   "outputs": [],
   "source": []
  }
 ],
 "metadata": {
  "kernelspec": {
   "display_name": "Python 3 (ipykernel)",
   "language": "python",
   "name": "python3"
  },
  "language_info": {
   "codemirror_mode": {
    "name": "ipython",
    "version": 3
   },
   "file_extension": ".py",
   "mimetype": "text/x-python",
   "name": "python",
   "nbconvert_exporter": "python",
   "pygments_lexer": "ipython3",
   "version": "3.7.11"
  }
 },
 "nbformat": 4,
 "nbformat_minor": 4
}
